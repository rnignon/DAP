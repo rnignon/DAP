{
  "nbformat": 4,
  "nbformat_minor": 0,
  "metadata": {
    "colab": {
      "name": "lecture1.ipynb",
      "provenance": [],
      "toc_visible": true,
      "authorship_tag": "ABX9TyNI+cze5hc8yeGIbwkip+0F",
      "include_colab_link": true
    },
    "kernelspec": {
      "name": "python3",
      "display_name": "Python 3"
    },
    "language_info": {
      "name": "python"
    }
  },
  "cells": [
    {
      "cell_type": "markdown",
      "metadata": {
        "id": "view-in-github",
        "colab_type": "text"
      },
      "source": [
        "<a href=\"https://colab.research.google.com/github/rnignon/DAP/blob/main/lecture1.ipynb\" target=\"_parent\"><img src=\"https://colab.research.google.com/assets/colab-badge.svg\" alt=\"Open In Colab\"/></a>"
      ]
    },
    {
      "cell_type": "code",
      "metadata": {
        "id": "FYeZmRuB15Mk"
      },
      "source": [
        "import numpy as np\n",
        "import pandas as pd\n",
        "import scipy\n",
        "import matplotlib\n",
        "import seaborn as sns\n",
        "import sklearn"
      ],
      "execution_count": 4,
      "outputs": []
    },
    {
      "cell_type": "code",
      "metadata": {
        "colab": {
          "base_uri": "https://localhost:8080/"
        },
        "id": "KCKm7tWN2q1H",
        "outputId": "aa1215e6-ebe8-4819-e74c-ed60fac64351"
      },
      "source": [
        "print(f'numpy version : {np.__version__}')\n",
        "print(f'pandas version : {pd.__version__}')\n",
        "print(f'scipy version : {scipy.__version__}')\n",
        "print(f'matplotlib version : {matplotlib.__version__}')\n",
        "print(f'seaborn version : {sns.__version__}')\n",
        "print(f'sklearn version : {sklearn.__version__}')"
      ],
      "execution_count": 3,
      "outputs": [
        {
          "output_type": "stream",
          "name": "stdout",
          "text": [
            "numpy version : 1.19.5\n",
            "pandas version : 1.1.5\n",
            "scipy version : 1.4.1\n",
            "matplotlib version : 3.2.2\n",
            "seaborn version : 0.11.1\n",
            "sklearn version : 0.22.2.post1\n"
          ]
        }
      ]
    }
  ]
}